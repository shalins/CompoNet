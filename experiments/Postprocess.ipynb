{
 "cells": [
  {
   "cell_type": "markdown",
   "id": "9f5b42c8",
   "metadata": {},
   "source": [
    "## Deduplicate\n",
    "\n",
    "Make sure that all the components in each of the scraped JSON files are unique"
   ]
  },
  {
   "cell_type": "code",
   "execution_count": 1,
   "id": "e38a5733",
   "metadata": {},
   "outputs": [],
   "source": [
    "import json\n",
    "from tqdm.notebook import tqdm"
   ]
  },
  {
   "cell_type": "code",
   "execution_count": 2,
   "id": "47b7101e",
   "metadata": {},
   "outputs": [],
   "source": [
    "def dedup(file):\n",
    "    seen = []\n",
    "    output = {}\n",
    "    first = True\n",
    "\n",
    "    with(open(file, 'r')) as f:\n",
    "        data = json.load(f)\n",
    "        print(f\"Original length: {len(data['data']['search']['results'])}\")\n",
    "        for part in tqdm(data[\"data\"][\"search\"][\"results\"]):\n",
    "            if part[\"part\"][\"id\"] not in seen:\n",
    "                seen.append(part[\"part\"][\"id\"])\n",
    "                if first:\n",
    "                    output = data.copy()\n",
    "                    output[\"data\"][\"search\"][\"results\"] = []\n",
    "                    first = False\n",
    "                output[\"data\"][\"search\"][\"results\"].append(part)\n",
    "    \n",
    "    with(open(file, 'w')) as outfile:\n",
    "        json.dump(output, outfile)\n",
    "    print(f\"Unique values: {len(output['data']['search']['results'])}\")"
   ]
  },
  {
   "cell_type": "code",
   "execution_count": 3,
   "id": "d4855357",
   "metadata": {},
   "outputs": [
    {
     "name": "stdout",
     "output_type": "stream",
     "text": [
      "Original length: 75391\n"
     ]
    },
    {
     "data": {
      "application/vnd.jupyter.widget-view+json": {
       "model_id": "9a0b1f5e54064c5a918002883c706ca8",
       "version_major": 2,
       "version_minor": 0
      },
      "text/plain": [
       "  0%|          | 0/75391 [00:00<?, ?it/s]"
      ]
     },
     "metadata": {},
     "output_type": "display_data"
    },
    {
     "name": "stdout",
     "output_type": "stream",
     "text": [
      "Unique values: 75389\n"
     ]
    }
   ],
   "source": [
    "file = \"../data_test/inductors/inductors.json\"\n",
    "dedup(file)"
   ]
  },
  {
   "cell_type": "markdown",
   "id": "e2878a97",
   "metadata": {},
   "source": [
    "## Sample Graph"
   ]
  },
  {
   "cell_type": "code",
   "execution_count": 6,
   "id": "d38ee9be",
   "metadata": {},
   "outputs": [],
   "source": [
    "# Load the data\n",
    "file = \"../data/capacitors/film.json\"\n",
    "\n",
    "with(open(file, 'r')) as f:\n",
    "    data = json.load(f)"
   ]
  },
  {
   "cell_type": "code",
   "execution_count": 7,
   "id": "bf67f2e9",
   "metadata": {},
   "outputs": [],
   "source": [
    "results = data[\"data\"][\"search\"][\"results\"]"
   ]
  },
  {
   "cell_type": "code",
   "execution_count": 47,
   "id": "776aa7dc",
   "metadata": {},
   "outputs": [
    {
     "name": "stdout",
     "output_type": "stream",
     "text": [
      "{   '__typename': 'Part',\n",
      "    '_cache_id': 'US-USD-21364577',\n",
      "    'best_datasheet': {   '__typename': 'Document',\n",
      "                          'url': 'http://datasheet.octopart.com/PHE450MD6100JR06L2-Kemet-datasheet-48000731.pdf'},\n",
      "    'best_image': {   '__typename': 'Image',\n",
      "                      'url': 'https://sigma.octopart.com/23723928/image/Evox-Rifa-PHE450MD6100JR06L2.jpg'},\n",
      "    'category': {'__typename': 'Category', 'id': '6333'},\n",
      "    'counts': {   'companion_products': 0,\n",
      "                  'datasheets': 9,\n",
      "                  'descriptions': 4,\n",
      "                  'images': 7,\n",
      "                  'reference_designs': 0,\n",
      "                  'similar_parts': 6,\n",
      "                  'specs': 24},\n",
      "    'descriptions': [   {   '__typename': 'Description',\n",
      "                            'text': 'PHE450 100nF Polypropylene Film Capacitor '\n",
      "                                    '400 V ac; 630 V dc +/-5%'},\n",
      "                        {   '__typename': 'Description',\n",
      "                            'text': 'Cap Film 0.1uF 630V PP 5% (26 X 6.5 X '\n",
      "                                    '14.5mm) Radial Plastic Rectangular Can '\n",
      "                                    '22.5mm 105°C Bulk'},\n",
      "                        {   '__typename': 'Description',\n",
      "                            'text': 'Film Capacitor, 0.1 uF, 400 V, 630 V, ± '\n",
      "                                    '5%, Double Metallized PP, Radial Box - 2 '\n",
      "                                    'Pin'},\n",
      "                        {   '__typename': 'Description',\n",
      "                            'text': 'CAP, 0.1µF, 630V, 5%, PP, RADIAL; '\n",
      "                                    'Capacitance: 0.1µF; Voltage Rating: 630V; '\n",
      "                                    'Capacitor Dielectric Type: PP '\n",
      "                                    '(Polypropylene); Capacitance Tolerance: ± '\n",
      "                                    '5%; Product Range: PHE450 Series; '\n",
      "                                    'Capacitor Case Style: Radial Box; '\n",
      "                                    'Capacitor Terminals: Radial Leaded; Lead '\n",
      "                                    'Spacing: 22.5mm; Operating Temperature '\n",
      "                                    'Min: -55°C; Operating Temperature Max: '\n",
      "                                    '105°C; Automotive Qualification Standard: '\n",
      "                                    '-; SVHC: No SVHC (15-Jan-2018); Voltage '\n",
      "                                    'Rating V DC: 630V'}],\n",
      "    'id': '21364577',\n",
      "    'manufacturer': {   '__typename': 'Company',\n",
      "                        'id': '212',\n",
      "                        'is_verified': False,\n",
      "                        'name': 'KEMET'},\n",
      "    'manufacturer_url': None,\n",
      "    'median_price_1000': {   '__typename': 'PricePoint',\n",
      "                             '_cache_id': 'US-USD-21364577-1000-1.002810',\n",
      "                             'converted_currency': 'USD',\n",
      "                             'converted_price': 1.00281},\n",
      "    'mpn': 'PHE450MD6100JR06L2',\n",
      "    'specs': [   {   '__typename': 'Spec',\n",
      "                     'attribute': {   '__typename': 'Attribute',\n",
      "                                      'id': '548',\n",
      "                                      'name': 'Capacitance',\n",
      "                                      'shortname': 'capacitance'},\n",
      "                     'display_value': '100 nF'},\n",
      "                 {   '__typename': 'Spec',\n",
      "                     'attribute': {   '__typename': 'Attribute',\n",
      "                                      'id': '842',\n",
      "                                      'name': 'Case/Package',\n",
      "                                      'shortname': 'case_package'},\n",
      "                     'display_value': 'Radial'},\n",
      "                 {   '__typename': 'Spec',\n",
      "                     'attribute': {   '__typename': 'Attribute',\n",
      "                                      'id': '291',\n",
      "                                      'name': 'Depth',\n",
      "                                      'shortname': 'depth'},\n",
      "                     'display_value': '6.5 mm'},\n",
      "                 {   '__typename': 'Spec',\n",
      "                     'attribute': {   '__typename': 'Attribute',\n",
      "                                      'id': '357',\n",
      "                                      'name': 'Dielectric',\n",
      "                                      'shortname': 'dielectric'},\n",
      "                     'display_value': 'PP'},\n",
      "                 {   '__typename': 'Spec',\n",
      "                     'attribute': {   '__typename': 'Attribute',\n",
      "                                      'id': '834',\n",
      "                                      'name': 'Dielectric Material',\n",
      "                                      'shortname': 'dielectricmaterial'},\n",
      "                     'display_value': 'PP'},\n",
      "                 {   '__typename': 'Spec',\n",
      "                     'attribute': {   '__typename': 'Attribute',\n",
      "                                      'id': '468',\n",
      "                                      'name': 'Height',\n",
      "                                      'shortname': 'height'},\n",
      "                     'display_value': '6.5 mm'},\n",
      "                 {   '__typename': 'Spec',\n",
      "                     'attribute': {   '__typename': 'Attribute',\n",
      "                                      'id': '386',\n",
      "                                      'name': 'Height - Seated (Max)',\n",
      "                                      'shortname': 'height_seated_max_'},\n",
      "                     'display_value': '14.5034 mm'},\n",
      "                 {   '__typename': 'Spec',\n",
      "                     'attribute': {   '__typename': 'Attribute',\n",
      "                                      'id': '473',\n",
      "                                      'name': 'Lead Diameter',\n",
      "                                      'shortname': 'leaddiameter'},\n",
      "                     'display_value': '800 µm'},\n",
      "                 {   '__typename': 'Spec',\n",
      "                     'attribute': {   '__typename': 'Attribute',\n",
      "                                      'id': '285',\n",
      "                                      'name': 'Lead Pitch',\n",
      "                                      'shortname': 'leadpitch'},\n",
      "                     'display_value': '22.5 mm'},\n",
      "                 {   '__typename': 'Spec',\n",
      "                     'attribute': {   '__typename': 'Attribute',\n",
      "                                      'id': '755',\n",
      "                                      'name': 'Length',\n",
      "                                      'shortname': 'length'},\n",
      "                     'display_value': '26 mm'},\n",
      "                 {   '__typename': 'Spec',\n",
      "                     'attribute': {   '__typename': 'Attribute',\n",
      "                                      'id': '849',\n",
      "                                      'name': 'Max Operating Temperature',\n",
      "                                      'shortname': 'maxoperatingtemperature'},\n",
      "                     'display_value': '105 °C'},\n",
      "                 {   '__typename': 'Spec',\n",
      "                     'attribute': {   '__typename': 'Attribute',\n",
      "                                      'id': '456',\n",
      "                                      'name': 'Min Operating Temperature',\n",
      "                                      'shortname': 'minoperatingtemperature'},\n",
      "                     'display_value': '-55 °C'},\n",
      "                 {   '__typename': 'Spec',\n",
      "                     'attribute': {   '__typename': 'Attribute',\n",
      "                                      'id': '773',\n",
      "                                      'name': 'Mount',\n",
      "                                      'shortname': 'mount'},\n",
      "                     'display_value': 'Through Hole'},\n",
      "                 {   '__typename': 'Spec',\n",
      "                     'attribute': {   '__typename': 'Attribute',\n",
      "                                      'id': '412',\n",
      "                                      'name': 'Packaging',\n",
      "                                      'shortname': 'packaging'},\n",
      "                     'display_value': 'Bulk'},\n",
      "                 {   '__typename': 'Spec',\n",
      "                     'attribute': {   '__typename': 'Attribute',\n",
      "                                      'id': '683',\n",
      "                                      'name': 'REACH SVHC',\n",
      "                                      'shortname': 'reachsvhc'},\n",
      "                     'display_value': 'No SVHC'},\n",
      "                 {   '__typename': 'Spec',\n",
      "                     'attribute': {   '__typename': 'Attribute',\n",
      "                                      'id': '610',\n",
      "                                      'name': 'RoHS',\n",
      "                                      'shortname': 'rohs'},\n",
      "                     'display_value': 'Compliant'},\n",
      "                 {   '__typename': 'Spec',\n",
      "                     'attribute': {   '__typename': 'Attribute',\n",
      "                                      'id': '973',\n",
      "                                      'name': 'Schedule B',\n",
      "                                      'shortname': 'scheduleB'},\n",
      "                     'display_value': '8532250070|8532250070|8532250070|8532250070|8532250070'},\n",
      "                 {   '__typename': 'Spec',\n",
      "                     'attribute': {   '__typename': 'Attribute',\n",
      "                                      'id': '717',\n",
      "                                      'name': 'Termination',\n",
      "                                      'shortname': 'termination'},\n",
      "                     'display_value': 'Radial'},\n",
      "                 {   '__typename': 'Spec',\n",
      "                     'attribute': {   '__typename': 'Attribute',\n",
      "                                      'id': '342',\n",
      "                                      'name': 'Tolerance',\n",
      "                                      'shortname': 'tolerance'},\n",
      "                     'display_value': '5 %'},\n",
      "                 {   '__typename': 'Spec',\n",
      "                     'attribute': {   '__typename': 'Attribute',\n",
      "                                      'id': '324',\n",
      "                                      'name': 'Voltage',\n",
      "                                      'shortname': 'voltage'},\n",
      "                     'display_value': '630 V'},\n",
      "                 {   '__typename': 'Spec',\n",
      "                     'attribute': {   '__typename': 'Attribute',\n",
      "                                      'id': '457',\n",
      "                                      'name': 'Voltage Rating',\n",
      "                                      'shortname': 'voltagerating'},\n",
      "                     'display_value': '630 V'},\n",
      "                 {   '__typename': 'Spec',\n",
      "                     'attribute': {   '__typename': 'Attribute',\n",
      "                                      'id': '340',\n",
      "                                      'name': 'Voltage Rating (AC)',\n",
      "                                      'shortname': 'voltagerating_ac_'},\n",
      "                     'display_value': '400 V'},\n",
      "                 {   '__typename': 'Spec',\n",
      "                     'attribute': {   '__typename': 'Attribute',\n",
      "                                      'id': '323',\n",
      "                                      'name': 'Voltage Rating (DC)',\n",
      "                                      'shortname': 'voltagerating_dc_'},\n",
      "                     'display_value': '630 V'},\n",
      "                 {   '__typename': 'Spec',\n",
      "                     'attribute': {   '__typename': 'Attribute',\n",
      "                                      'id': '576',\n",
      "                                      'name': 'Width',\n",
      "                                      'shortname': 'width'},\n",
      "                     'display_value': '6.5024 mm'}]}\n"
     ]
    }
   ],
   "source": [
    "import pprint\n",
    "pp = pprint.PrettyPrinter(indent=4)\n",
    "pp.pprint(results[0][\"part\"])\n"
   ]
  },
  {
   "cell_type": "code",
   "execution_count": 59,
   "id": "d7aa2094",
   "metadata": {},
   "outputs": [
    {
     "data": {
      "application/vnd.jupyter.widget-view+json": {
       "model_id": "6f9fce4105db411aae8a6efab28190e5",
       "version_major": 2,
       "version_minor": 0
      },
      "text/plain": [
       "  0%|          | 0/66703 [00:00<?, ?it/s]"
      ]
     },
     "metadata": {},
     "output_type": "display_data"
    },
    {
     "name": "stdout",
     "output_type": "stream",
     "text": [
      "Total caps with volume information: 39323\n"
     ]
    }
   ],
   "source": [
    "import math\n",
    "import re\n",
    "\n",
    "count = 0\n",
    "volumes = []\n",
    "prices = []\n",
    "with(open(f\"../data/capacitors/aluminum_electrolytic.json\", 'r')) as file:\n",
    "    data = json.load(file)\n",
    "    for part in tqdm(data[\"data\"][\"search\"][\"results\"]):\n",
    "        specs = part[\"part\"][\"specs\"]\n",
    "        height = \"\"\n",
    "        diameter = \"\"\n",
    "        for spec in specs:\n",
    "            if spec[\"attribute\"][\"shortname\"] == \"diameter\":\n",
    "                diameter = spec[\"display_value\"]\n",
    "            if spec[\"attribute\"][\"shortname\"] == \"height_seated_max_\":\n",
    "                height = spec[\"display_value\"]\n",
    "            if part[\"part\"]['median_price_1000']:\n",
    "                price = part[\"part\"]['median_price_1000']['converted_price']\n",
    "        if diameter and height and price:\n",
    "            prices.append(float(price))\n",
    "            count += 1\n",
    "            diameter = float(re.findall(r\"[-+]?(?:\\d*\\.\\d+|\\d+)\", diameter)[0])\n",
    "            height = float(re.findall(r\"[-+]?(?:\\d*\\.\\d+|\\d+)\", height)[0])\n",
    "            volume = math.pi * pow((diameter / 2), 2) * height\n",
    "            volumes.append(volume)\n",
    "#             print(f\"volume = pi * ({diameter} / 2)^2 * {height} = {volume} mm^3, price = ${price}\")\n",
    "            \n",
    "print(f\"Total caps with volume information: {count}\")"
   ]
  },
  {
   "cell_type": "code",
   "execution_count": 58,
   "id": "d7c88749",
   "metadata": {},
   "outputs": [
    {
     "data": {
      "image/png": "[encoded data removed]",
      "text/plain": [
       "<Figure size 432x288 with 1 Axes>"
      ]
     },
     "metadata": {
      "needs_background": "light"
     },
     "output_type": "display_data"
    }
   ],
   "source": [
    "import matplotlib.pyplot as plt\n",
    "import numpy as np\n",
    "\n",
    "plt.scatter(volumes, prices, c=\"b\", alpha=0.1, label=\"Capacitor\")\n",
    "plt.xlabel(\"Price ($)\")\n",
    "plt.ylabel(\"Volume (m^3)\")\n",
    "plt.yscale('log')\n",
    "plt.xscale('log')\n",
    "plt.legend(loc='upper left')\n",
    "plt.show()\n"
   ]
  },
  {
   "cell_type": "code",
   "execution_count": null,
   "id": "0645cdde",
   "metadata": {},
   "outputs": [],
   "source": []
  }
 ],
 "metadata": {
  "kernelspec": {
   "display_name": "Python 3 (ipykernel)",
   "language": "python",
   "name": "python3"
  },
  "language_info": {
   "codemirror_mode": {
    "name": "ipython",
    "version": 3
   },
   "file_extension": ".py",
   "mimetype": "text/x-python",
   "name": "python",
   "nbconvert_exporter": "python",
   "pygments_lexer": "ipython3",
   "version": "3.9.13"
  }
 },
 "nbformat": 4,
 "nbformat_minor": 5
}
