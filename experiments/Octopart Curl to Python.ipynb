{
 "cells": [
  {
   "cell_type": "markdown",
   "id": "6b9b7f9e",
   "metadata": {},
   "source": [
    "# Octopart Python Request "
   ]
  },
  {
   "cell_type": "markdown",
   "id": "ec1942cd",
   "metadata": {},
   "source": [
    "1. Open the Network Inspector in Chrome.\n",
    "2. Find the request made to the API endpoint (https://octopart.com/api/v4/internal).\n",
    "3. Right click and Copy as CURL.\n",
    "4. Paste into https://curlconverter.com/ to convert from CURL to Python.\n",
    "5. Paste below and run."
   ]
  },
  {
   "cell_type": "code",
   "execution_count": 47,
   "id": "0ef1c507",
   "metadata": {},
   "outputs": [],
   "source": [
    "import requests\n",
    "\n",
    "cookies = {\n",
    "    '_px': 'kHnSjy5dZ/AO/gKQ8QKjXGcvQOPMPhpV+fUsWG3Uu5G3cHQMza5Th0v1pBoF+IGSyWHIZZQjxMIBA1Vei+l2gQ==:1000:/XT2Lk4EcaubGlJQfvaIf/bPCERe5holErPFKdtD/OBHGjbxumKNeuP+UIFouPMK7PYKm2fjE3nurO7azY5kE9IQJcoo/L469lPb01biMZh4GxbeANARrPzdd3O9EzJD4KJ/boDsRiVWalaEOa618kQPvoRLYW4Zme/6EmcMyVpgzAbPvnz0wY+t1BiI3lK8+p9Jt8oOtEobvhsB0oUlud4kpLXSrmjrkHjQpTgWZfIlCEXPygdMy0sMM12G7ZeEZaYu3dkPvKEFvlIlNFGIgA==',\n",
    "}\n",
    "\n",
    "headers = {\n",
    "    'user-agent': 'Mozilla/5.0 (Macintosh; Intel Mac OS X 10_15_7) AppleWebKit/537.36 (KHTML, like Gecko) Chrome/103.0.0.0 Safari/537.36',\n",
    "}\n",
    "\n",
    "json_data = {\n",
    "    'operationName': 'PricesViewSearch',\n",
    "    'variables': {\n",
    "        'country': 'US',\n",
    "        'currency': 'USD',\n",
    "        'filters': {\n",
    "            'category_id': [\n",
    "                '4191',\n",
    "            ],\n",
    "        },\n",
    "        'in_stock_only': False,\n",
    "        'limit': 1,\n",
    "        'start': 0,\n",
    "    },\n",
    "    'query': \"\"\"\n",
    "    query PricesViewSearch($country: String!, $currency: String!, $filters: Map, $in_stock_only: Boolean, $limit: Int!, $q: String, $sort: String, $sort_dir: SortDirection, $start: Int) {\n",
    "        search(country: $country, currency: $currency, filters: $filters, in_stock_only: $in_stock_only, limit: $limit, q: $q, sort: $sort, sort_dir: $sort_dir, start: $start) {\n",
    "            all_filters {\n",
    "                group\n",
    "                id\n",
    "                name\n",
    "                shortname\n",
    "                __typename\n",
    "            }\n",
    "        }\n",
    "    }\n",
    "    \"\"\"\n",
    "    \n",
    "    ,\n",
    "}\n",
    "\n",
    "response = requests.post('https://octopart.com/api/v4/internal', cookies=cookies, headers=headers, json=json_data)"
   ]
  },
  {
   "cell_type": "code",
   "execution_count": 48,
   "id": "7d83882d",
   "metadata": {},
   "outputs": [
    {
     "data": {
      "text/plain": [
       "'{\"data\":{\"search\":{\"all_filters\":[{\"group\":\"Physical\",\"id\":\"842\",\"name\":\"Case/Package\",\"shortname\":\"case_package\",\"__typename\":\"Attribute\"},{\"group\":\"Physical\",\"id\":\"392\",\"name\":\"Core Material\",\"shortname\":\"corematerial\",\"__typename\":\"Attribute\"},{\"group\":\"Technical\",\"id\":\"201\",\"name\":\"DC Resistance (DCR)\",\"shortname\":\"dcresistance_dcr_\",\"__typename\":\"Attribute\"},{\"group\":\"Dimensions\",\"id\":\"291\",\"name\":\"Depth\",\"shortname\":\"depth\",\"__typename\":\"Attribute\"},{\"group\":\"Dimensions\",\"id\":\"418\",\"name\":\"Diameter\",\"shortname\":\"diameter\",\"__typename\":\"Attribute\"},{\"group\":\"Dimensions\",\"id\":\"468\",\"name\":\"Height\",\"shortname\":\"height\",\"__typename\":\"Attribute\"},{\"group\":\"Technical\",\"id\":\"375\",\"name\":\"Inductance\",\"shortname\":\"inductance\",\"__typename\":\"Attribute\"},{\"group\":\"Compliance\",\"id\":\"724\",\"name\":\"Lead Free\",\"shortname\":\"leadfree\",\"__typename\":\"Attribute\"},{\"group\":\"Dimensions\",\"id\":\"545\",\"name\":\"Lead Length\",\"shortname\":\"leadlength\",\"__typename\":\"Attribute\"},{\"group\":\"Dimensions\",\"id\":\"285\",\"name\":\"Lead Pitch\",\"shortname\":\"leadpitch\",\"__typename\":\"Attribute\"},{\"group\":\"Technical\",\"id\":\"852\",\"name\":\"Lead/Base Style\",\"shortname\":\"lead_basestyle\",\"__typename\":\"Attribute\"},{\"group\":\"Dimensions\",\"id\":\"755\",\"name\":\"Length\",\"shortname\":\"length\",\"__typename\":\"Attribute\"},{\"group\":\"Technical\",\"id\":\"359\",\"name\":\"Max DC Current\",\"shortname\":\"maxdccurrent\",\"__typename\":\"Attribute\"},{\"group\":\"Technical\",\"id\":\"849\",\"name\":\"Max Operating Temperature\",\"shortname\":\"maxoperatingtemperature\",\"__typename\":\"Attribute\"},{\"group\":\"Technical\",\"id\":\"478\",\"name\":\"Military Standard\",\"shortname\":\"militarystandard\",\"__typename\":\"Attribute\"},{\"group\":\"Technical\",\"id\":\"456\",\"name\":\"Min Operating Temperature\",\"shortname\":\"minoperatingtemperature\",\"__typename\":\"Attribute\"},{\"group\":\"Physical\",\"id\":\"773\",\"name\":\"Mount\",\"shortname\":\"mount\",\"__typename\":\"Attribute\"},{\"group\":\"Technical\",\"id\":\"412\",\"name\":\"Packaging\",\"shortname\":\"packaging\",\"__typename\":\"Attribute\"},{\"group\":\"Technical\",\"id\":\"577\",\"name\":\"Q Factor\",\"shortname\":\"qfactor\",\"__typename\":\"Attribute\"},{\"group\":\"Compliance\",\"id\":\"634\",\"name\":\"Radiation Hardening\",\"shortname\":\"radiationhardening\",\"__typename\":\"Attribute\"},{\"group\":\"Compliance\",\"id\":\"610\",\"name\":\"RoHS\",\"shortname\":\"rohs\",\"__typename\":\"Attribute\"},{\"group\":\"Technical\",\"id\":\"831\",\"name\":\"Shielding\",\"shortname\":\"shielding\",\"__typename\":\"Attribute\"},{\"group\":\"Technical\",\"id\":\"717\",\"name\":\"Termination\",\"shortname\":\"termination\",\"__typename\":\"Attribute\"},{\"group\":\"Technical\",\"id\":\"684\",\"name\":\"Test Frequency\",\"shortname\":\"testfrequency\",\"__typename\":\"Attribute\"},{\"group\":\"Technical\",\"id\":\"342\",\"name\":\"Tolerance\",\"shortname\":\"tolerance\",\"__typename\":\"Attribute\"},{\"group\":\"Dimensions\",\"id\":\"576\",\"name\":\"Width\",\"shortname\":\"width\",\"__typename\":\"Attribute\"}]}}}'"
      ]
     },
     "execution_count": 48,
     "metadata": {},
     "output_type": "execute_result"
    }
   ],
   "source": [
    "response.text"
   ]
  },
  {
   "cell_type": "code",
   "execution_count": null,
   "id": "c8c3bc51",
   "metadata": {},
   "outputs": [],
   "source": []
  }
 ],
 "metadata": {
  "kernelspec": {
   "display_name": "Python 3 (ipykernel)",
   "language": "python",
   "name": "python3"
  },
  "language_info": {
   "codemirror_mode": {
    "name": "ipython",
    "version": 3
   },
   "file_extension": ".py",
   "mimetype": "text/x-python",
   "name": "python",
   "nbconvert_exporter": "python",
   "pygments_lexer": "ipython3",
   "version": "3.8.9"
  }
 },
 "nbformat": 4,
 "nbformat_minor": 5
}
