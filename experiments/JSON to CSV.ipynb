{
 "cells": [
  {
   "cell_type": "markdown",
   "id": "2732f559",
   "metadata": {},
   "source": [
    "## Convert from JSON to CSV\n",
    "\n",
    "This is so we can tabulate the data and upload to a database for later querying."
   ]
  },
  {
   "cell_type": "code",
   "execution_count": null,
   "id": "a8ab366e",
   "metadata": {},
   "outputs": [],
   "source": []
  }
 ],
 "metadata": {
  "kernelspec": {
   "display_name": "Python 3 (ipykernel)",
   "language": "python",
   "name": "python3"
  },
  "language_info": {
   "codemirror_mode": {
    "name": "ipython",
    "version": 3
   },
   "file_extension": ".py",
   "mimetype": "text/x-python",
   "name": "python",
   "nbconvert_exporter": "python",
   "pygments_lexer": "ipython3",
   "version": "3.9.13"
  }
 },
 "nbformat": 4,
 "nbformat_minor": 5
}
