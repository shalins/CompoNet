{
 "cells": [
  {
   "cell_type": "code",
   "execution_count": null,
   "id": "ea11cc5a",
   "metadata": {},
   "outputs": [],
   "source": [
    "> Please enter the component name\n",
    "> Film Caps\n",
    "    (6333)\n",
    "\n",
    "\n",
    "> Please enter the first attribute name \n",
    "> Please enter the second category name\n",
    "> Please enter the third category name\n"
   ]
  },
  {
   "cell_type": "markdown",
   "id": "8c91345e",
   "metadata": {},
   "source": [
    "1. Get input from the user.\n",
    "    - Component name.\n",
    "    - All the attributes that we want to filter by.\n",
    "    - PX\n",
    "    - User Agent\n",
    "2. Use the information given to generate a dictionary holding all the attributes that want to loop over.\n",
    "3. Start collecting data.\n",
    "\n",
    "\n"
   ]
  },
  {
   "cell_type": "markdown",
   "id": "ed1ef9a7",
   "metadata": {},
   "source": [
    "### Inputs\n"
   ]
  },
  {
   "cell_type": "code",
   "execution_count": 113,
   "id": "3b23f6e2",
   "metadata": {},
   "outputs": [],
   "source": [
    "PX = 'w/Smo++eapzlUjdM9igubqXVM9+XSIaJp4QFif1bCV2knCCXkI1rDZVPmtv5knZKchiJqzIVRR3CH3vQy2LVKQ==:1000:C/zaQdbukP/FZBG93EQ/Q9E67aVBagYM1dItCIpqfEeS0PpKA4/rTQS+yy3I7wdOCWGsI6GTTZ0q7E8BDLEZJBPdkD7VRb4o4jlZ7G8AJSa8Y+nuiWQ3loA3Mpr7wk7xYbJaTeRU2HP1+MnyIxkMvL4RdphttGwz8gsv4Az4W/pyz/u9fKsFr0nqnHnhagQ8x6UgZR6pxID2nlkH8Ar32E7hiDgqE43ps9aUqdqY2SKU8lVxKa4tvuSMOOYFDWAqdBLcuv1ZXat2PLgfaOrz2g=='\n",
    "USER_AGENT = 'Mozilla/5.0 (Macintosh; Intel Mac OS X 10_15_7) AppleWebKit/537.36 (KHTML, like Gecko) Chrome/103.0.0.0 Safari/537.36'"
   ]
  },
  {
   "cell_type": "markdown",
   "id": "a672424d",
   "metadata": {},
   "source": [
    "### Maps from names to ID's"
   ]
  },
  {
   "cell_type": "code",
   "execution_count": 10,
   "id": "8b963b2c",
   "metadata": {},
   "outputs": [],
   "source": [
    "# https://octopart.com/api/v4/values#categories\n",
    "categories = {\n",
    "    'Passive Components'              : '4165',\n",
    "    'Capacitors'                      : '4166',\n",
    "    'Aluminum Electrolytic Capacitors': '6331',\n",
    "    'Capacitor Arrays'                : '4169',\n",
    "    'Capacitor Kits'                  : '4172',\n",
    "    'Ceramic Capacitors'              : '6332',\n",
    "    'Film Capacitors'                 : '6333',\n",
    "    'Mica Capacitors'                 : '6334',\n",
    "    'Polymer Capacitors'              : '6335',\n",
    "    'Tantalum Capacitors'             : '6336',\n",
    "    'Trimmer / Variable Capacitors'   : '4168',\n",
    "    'Inductors'                       : '4190',\n",
    "    'Fixed Inductors'                 : '4193',\n",
    "    'Inductor Kits'                   : '6259',\n",
    "    'Variable Inductors'              : '4191',\n",
    "    'Transformers'                    : '4197',\n",
    "}"
   ]
  },
  {
   "cell_type": "code",
   "execution_count": 25,
   "id": "00caf68a",
   "metadata": {},
   "outputs": [],
   "source": [
    "# https://octopart.com/api/v4/values#attributes\n",
    "attributes = {\n",
    "    'Capacitance': 'capacitance',\n",
    "    'Case/Package': 'case_package',\n",
    "    'Contact Plating': 'contactplating',\n",
    "    'Diameter': 'diameter',\n",
    "    'Dielectric Material': 'dielectricmaterial',\n",
    "    'Dissipation Factor': 'dissipationfactor',\n",
    "    'ESR (Equivalent Series Resistance)': 'esr_equivalentseriesresistance_',\n",
    "    'Features': 'features',\n",
    "    'Height': 'height',\n",
    "    'Height - Seated (Max)': 'height_seated_max_',\n",
    "    'Hole Diameter': 'holediameter',\n",
    "    'Impedance': 'impedance',\n",
    "    'Lead Diameter': 'leaddiameter',\n",
    "    'Lead Free': 'leadfree',\n",
    "    'Lead Length': 'leadlength',\n",
    "    'Lead Pitch': 'leadpitch',\n",
    "    'Lead/Base Style': 'lead_basestyle',\n",
    "    'Leakage Current': 'leakagecurrent',\n",
    "    'Length': 'length',\n",
    "    'Life (Hours)': 'life_hours_',\n",
    "    'Lifecycle Status': 'lifecyclestatus',\n",
    "    'Material': 'material',\n",
    "    'Max Operating Temperature': 'maxoperatingtemperature',\n",
    "    'Min Operating Temperature': 'minoperatingtemperature',\n",
    "    'Mount': 'mount',\n",
    "    'Number of Pins': 'numberofpins',\n",
    "    'Packaging': 'packaging',\n",
    "    'Polarity': 'polarity',\n",
    "    'REACH SVHC': 'reachsvhc',\n",
    "    'Radiation Hardening': 'radiationhardening',\n",
    "    'Resistance': 'resistance',\n",
    "    'Ripple Current': 'ripplecurrent',\n",
    "    'Ripple Current (AC)': 'ripplecurrent_ac_',\n",
    "    'RoHS': 'rohs',\n",
    "    'Schedule B': 'scheduleB',\n",
    "    'Termination': 'termination',\n",
    "    'Test Frequency': 'testfrequency',\n",
    "    'Tolerance': 'tolerance',\n",
    "    'Voltage': 'voltage',\n",
    "    'Voltage Rating': 'voltagerating',\n",
    "    'Voltage Rating (AC)': 'voltagerating_ac_',\n",
    "    'Voltage Rating (DC)': 'voltagerating_dc_',\n",
    "    'Weight': 'weight',\n",
    "    'Width': 'width',\n",
    "    'Case Code (Imperial)': 'casecode_imperial_',\n",
    "    'Case Code (Metric)': 'casecode_metric_',\n",
    "    'Composition': 'composition',\n",
    "    'Depth': 'depth',\n",
    "    'Dielectric': 'dielectric',\n",
    "    'Manufacturer Lifecycle Status': 'manufacturerlifecyclestatus',\n",
    "    'Ratings': 'ratings',\n",
    "    'Temperature Coefficient': 'temperaturecoefficient',\n",
    "    'Thickness': 'thickness',\n",
    "    'Military Standard': 'militarystandard',\n",
    "    'Core Material': 'corematerial',\n",
    "    'Current Rating': 'currentrating',\n",
    "    'DC Resistance (DCR)': 'dcresistance_dcr_',\n",
    "    'Failure Rate': 'failurerate',\n",
    "    'Frequency': 'frequency',\n",
    "    'Frequency Stability': 'frequencystability',\n",
    "    'Inductance': 'inductance',\n",
    "    'Max DC Current': 'maxdccurrent',\n",
    "    'Max Junction Temperature (Tj)': 'maxjunctiontemperature',\n",
    "    'Max Power Dissipation': 'maxpowerdissipation',\n",
    "    'Max Supply Voltage': 'maxsupplyvoltage',\n",
    "    'Min Supply Voltage': 'minsupplyvoltage',\n",
    "    'Nominal Supply Current': 'nominalsupplycurrent',\n",
    "    'Nominal Supply Voltage (DC)': 'nominalsupplyvoltage_dc_',\n",
    "    'Number of Terminations': 'numberofterminations',\n",
    "    'Operating Supply Voltage': 'operatingsupplyvoltage',\n",
    "    'Power Rating': 'powerrating',\n",
    "    'Self Resonant Frequency': 'selfresonantfrequency',\n",
    "    'Shielding': 'shielding',\n",
    "    'Insulation Resistance': 'insulationresistance',\n",
    "    'Type': 'type',\n",
    "    'Color': 'color',\n",
    "    'Q Factor': 'qfactor',\n",
    "    'Current': 'current',\n",
    "    'DC Current': 'dccurrent',\n",
    "    'Inductance Tolerance': 'inductancetolerance',\n",
    "    'Max Length': 'maxlength',\n",
    "    'Max Width': 'maxwidth',\n",
    "    'Min Length': 'minlength',\n",
    "    'Min Width': 'minwidth',\n",
    "    'RMS Current (Irms)': 'rmscurrent_irms_',\n",
    "    'Saturation Current': 'saturationcurrent',\n",
    "    'Series Resistance': 'seriesresistance',\n",
    "    'Halogen Free': 'halogenfree',\n",
    "    'Max Saturation Current': 'maxsatcurrent',\n",
    "    'Max Temperature Rise Current': 'maxtemprisecurrent',\n",
    "    'Connector Type': 'connectortype'\n",
    "}"
   ]
  },
  {
   "cell_type": "code",
   "execution_count": null,
   "id": "5573abd6",
   "metadata": {},
   "outputs": [],
   "source": []
  },
  {
   "cell_type": "markdown",
   "id": "ff6f95f7",
   "metadata": {},
   "source": [
    "### Get all values from the category & attribute"
   ]
  },
  {
   "cell_type": "code",
   "execution_count": 126,
   "id": "8f55ca50",
   "metadata": {},
   "outputs": [],
   "source": [
    "CATEGORIES = categories[\"Ceramic Capacitors\"]\n",
    "ATTRIBUTE = [\n",
    "    attributes[\"Capacitance\"],\n",
    "    attributes[\"Capacitance\"],\n",
    "    attributes[\"Capacitance\"],\n",
    "]"
   ]
  },
  {
   "cell_type": "code",
   "execution_count": 111,
   "id": "4478f281",
   "metadata": {},
   "outputs": [
    {
     "name": "stdout",
     "output_type": "stream",
     "text": [
      "PricesViewSearch\n"
     ]
    }
   ],
   "source": [
    "import re\n",
    "\n",
    "from scraper.queries import ATTRIBUTE_BUCKET_QUERY, PART_SEARCH_QUERY\n",
    "\n",
    "try:\n",
    "    name = re.search(\"\\w+(?=(\\s*)?\\()\", PART_SEARCH_QUERY)[0]\n",
    "except:\n",
    "    print(\"Failed to find \")\n",
    "print(name)"
   ]
  },
  {
   "cell_type": "code",
   "execution_count": 127,
   "id": "83d8898c",
   "metadata": {},
   "outputs": [],
   "source": [
    "import re\n",
    "import requests\n",
    "\n",
    "cookies = {\n",
    "    '_px': PX,\n",
    "}\n",
    "\n",
    "headers = {\n",
    "    'user-agent': USER_AGENT,\n",
    "}\n",
    "\n",
    "json_data = {\n",
    "    'operationName': re.search(\"\\w+(?=(\\s*)?\\()\", ATTRIBUTE_BUCKET_QUERY)[0],\n",
    "    'variables': {\n",
    "        'attribute_names': ATTRIBUTE,\n",
    "        'currency': 'USD',\n",
    "        'filters': {\n",
    "            'category_id': [\n",
    "                CATEGORY,\n",
    "            ],\n",
    "        },\n",
    "        'in_stock_only': False,\n",
    "    },\n",
    "    'query': ATTRIBUTE_BUCKET_QUERY,\n",
    "}\n",
    "\n",
    "response = requests.post('https://octopart.com/api/v4/internal', cookies=cookies, headers=headers, json=json_data)"
   ]
  },
  {
   "cell_type": "code",
   "execution_count": 128,
   "id": "820b10d0",
   "metadata": {},
   "outputs": [],
   "source": [
    "specs = []\n",
    "for spec in response.json()['data']['search']['spec_aggs'][0]['buckets']:\n",
    "    specs.append(spec)"
   ]
  },
  {
   "cell_type": "code",
   "execution_count": 137,
   "id": "f89dfe08",
   "metadata": {},
   "outputs": [
    {
     "name": "stdout",
     "output_type": "stream",
     "text": [
      "total: 100\n",
      "--------------\n",
      "['1 nF', '10 nF', '100 nF', '100 pF', '2.2 nF', '4.7 nF', '470 pF', '3.3 nF', '22 nF', '220 pF', '1.5 nF', '330 pF', '10 pF', '47 nF', '680 pF', '47 pF', '1 µF', '22 pF', '33 pF', '6.8 nF', '15 nF', '33 nF', '220 nF', '15 pF', '150 pF', '270 pF', '470 nF', '1.8 nF', '560 pF', '12 pF', '1.2 nF', '27 pF', '18 pF', '68 pF', '390 pF', '2.7 nF', '820 pF', '68 nF', '39 pF', '3.9 nF', '180 pF', '56 pF', '5.6 nF', '120 pF', '82 pF', '2.2 µF', '10 µF', '8.2 nF', '12 nF', '18 nF', '330 nF', '4.7 µF', '150 nF', '27 nF', '39 nF', '56 nF', '20 pF', '4.7 pF', '6.8 pF', '8.2 pF', '30 pF', '5.6 pF', '82 nF', '3.3 pF', '75 pF', '1 pF', '2.2 pF', '24 pF', '680 nF', '1.5 pF', '51 pF', '3.9 pF', '36 pF', '2.7 pF', '91 pF', '1.8 pF', '13 pF', '62 pF', '43 pF', '2 pF', '3 pF', '1.2 pF', '11 pF', '22 µF', '200 pF', '5.1 pF', '300 pF', '120 nF', '7.5 pF', '9.1 pF', '16 pF', '6.2 pF', '110 pF', '510 pF', '180 nF', '130 pF', '360 pF', '3.6 pF', '2.4 pF', '4.3 pF']\n"
     ]
    }
   ],
   "source": [
    "print(f\"total: {len(specs)}\\n--------------\")\n",
    "# for s in specs:\n",
    "print([s[\"display_value\"] for s in specs])"
   ]
  },
  {
   "cell_type": "markdown",
   "id": "311e8ece",
   "metadata": {},
   "source": [
    "### Run the collection loop multiple times"
   ]
  },
  {
   "cell_type": "code",
   "execution_count": 184,
   "id": "e156c64a",
   "metadata": {},
   "outputs": [
    {
     "name": "stdout",
     "output_type": "stream",
     "text": [
      "{'first': 'a', 'second': 'f', 'third': 'z'}\n",
      "{'first': 2, 'second': 3, 'third': 4}\n",
      "{'first': 'a', 'second': 'f', 'third': 'w'}\n",
      "{'first': 2, 'second': 3, 'third': 4}\n",
      "{'first': 'a', 'second': 'f', 'third': 'v'}\n",
      "{'first': 2, 'second': 3, 'third': 4}\n",
      "{'first': 'a', 'second': 'f', 'third': 'u'}\n",
      "{'first': 2, 'second': 3, 'third': 4}\n",
      "{'first': 'a', 'second': 'f', 'third': 't'}\n",
      "{'first': 2, 'second': 3, 'third': 4}\n",
      "{'first': 'a', 'second': 'g', 'third': 'z'}\n",
      "{'first': 2, 'second': 3, 'third': 4}\n",
      "{'first': 'a', 'second': 'g', 'third': 'w'}\n",
      "{'first': 2, 'second': 3, 'third': 4}\n",
      "{'first': 'a', 'second': 'g', 'third': 'v'}\n",
      "{'first': 2, 'second': 3, 'third': 4}\n",
      "{'first': 'a', 'second': 'g', 'third': 'u'}\n",
      "{'first': 2, 'second': 3, 'third': 4}\n",
      "{'first': 'a', 'second': 'g', 'third': 't'}\n",
      "{'first': 2, 'second': 3, 'third': 4}\n",
      "{'first': 'a', 'second': 'h', 'third': 'z'}\n",
      "{'first': 2, 'second': 3, 'third': 4}\n",
      "{'first': 'a', 'second': 'h', 'third': 'w'}\n",
      "{'first': 2, 'second': 3, 'third': 4}\n",
      "{'first': 'a', 'second': 'h', 'third': 'v'}\n",
      "{'first': 2, 'second': 3, 'third': 4}\n",
      "{'first': 'a', 'second': 'h', 'third': 'u'}\n",
      "{'first': 2, 'second': 3, 'third': 4}\n",
      "{'first': 'a', 'second': 'h', 'third': 't'}\n",
      "{'first': 2, 'second': 3, 'third': 4}\n",
      "{'first': 'a', 'second': 'i', 'third': 'z'}\n",
      "{'first': 2, 'second': 3, 'third': 4}\n",
      "{'first': 'a', 'second': 'i', 'third': 'w'}\n",
      "{'first': 2, 'second': 3, 'third': 4}\n",
      "{'first': 'a', 'second': 'i', 'third': 'v'}\n",
      "{'first': 2, 'second': 3, 'third': 4}\n",
      "{'first': 'a', 'second': 'i', 'third': 'u'}\n",
      "{'first': 2, 'second': 3, 'third': 4}\n",
      "{'first': 'a', 'second': 'i', 'third': 't'}\n",
      "{'first': 2, 'second': 3, 'third': 4}\n",
      "{'first': 'b', 'second': 'f', 'third': 'z'}\n",
      "{'first': 2, 'second': 3, 'third': 4}\n",
      "{'first': 'b', 'second': 'f', 'third': 'w'}\n",
      "{'first': 2, 'second': 3, 'third': 4}\n",
      "{'first': 'b', 'second': 'f', 'third': 'v'}\n",
      "{'first': 2, 'second': 3, 'third': 4}\n",
      "{'first': 'b', 'second': 'f', 'third': 'u'}\n",
      "{'first': 2, 'second': 3, 'third': 4}\n",
      "{'first': 'b', 'second': 'f', 'third': 't'}\n",
      "{'first': 2, 'second': 3, 'third': 4}\n",
      "{'first': 'b', 'second': 'g', 'third': 'z'}\n",
      "{'first': 2, 'second': 3, 'third': 4}\n",
      "{'first': 'b', 'second': 'g', 'third': 'w'}\n",
      "{'first': 2, 'second': 3, 'third': 4}\n",
      "{'first': 'b', 'second': 'g', 'third': 'v'}\n",
      "{'first': 2, 'second': 3, 'third': 4}\n",
      "{'first': 'b', 'second': 'g', 'third': 'u'}\n",
      "{'first': 2, 'second': 3, 'third': 4}\n",
      "{'first': 'b', 'second': 'g', 'third': 't'}\n",
      "{'first': 2, 'second': 3, 'third': 4}\n",
      "{'first': 'b', 'second': 'h', 'third': 'z'}\n",
      "{'first': 2, 'second': 3, 'third': 4}\n",
      "{'first': 'b', 'second': 'h', 'third': 'w'}\n",
      "{'first': 2, 'second': 3, 'third': 4}\n",
      "{'first': 'b', 'second': 'h', 'third': 'v'}\n",
      "{'first': 2, 'second': 3, 'third': 4}\n",
      "{'first': 'b', 'second': 'h', 'third': 'u'}\n",
      "{'first': 2, 'second': 3, 'third': 4}\n",
      "{'first': 'b', 'second': 'h', 'third': 't'}\n",
      "{'first': 2, 'second': 3, 'third': 4}\n",
      "{'first': 'b', 'second': 'i', 'third': 'z'}\n",
      "{'first': 2, 'second': 3, 'third': 4}\n",
      "{'first': 'b', 'second': 'i', 'third': 'w'}\n",
      "{'first': 2, 'second': 3, 'third': 4}\n",
      "{'first': 'b', 'second': 'i', 'third': 'v'}\n",
      "{'first': 2, 'second': 3, 'third': 4}\n",
      "{'first': 'b', 'second': 'i', 'third': 'u'}\n",
      "{'first': 2, 'second': 3, 'third': 4}\n",
      "{'first': 'b', 'second': 'i', 'third': 't'}\n",
      "{'first': 2, 'second': 3, 'third': 4}\n",
      "{'first': 'c', 'second': 'f', 'third': 'z'}\n",
      "{'first': 2, 'second': 3, 'third': 4}\n",
      "{'first': 'c', 'second': 'f', 'third': 'w'}\n",
      "{'first': 2, 'second': 3, 'third': 4}\n",
      "{'first': 'c', 'second': 'f', 'third': 'v'}\n",
      "{'first': 2, 'second': 3, 'third': 4}\n",
      "{'first': 'c', 'second': 'f', 'third': 'u'}\n",
      "{'first': 2, 'second': 3, 'third': 4}\n",
      "{'first': 'c', 'second': 'f', 'third': 't'}\n",
      "{'first': 2, 'second': 3, 'third': 4}\n",
      "{'first': 'c', 'second': 'g', 'third': 'z'}\n",
      "{'first': 2, 'second': 3, 'third': 4}\n",
      "{'first': 'c', 'second': 'g', 'third': 'w'}\n",
      "{'first': 2, 'second': 3, 'third': 4}\n",
      "{'first': 'c', 'second': 'g', 'third': 'v'}\n",
      "{'first': 2, 'second': 3, 'third': 4}\n",
      "{'first': 'c', 'second': 'g', 'third': 'u'}\n",
      "{'first': 2, 'second': 3, 'third': 4}\n",
      "{'first': 'c', 'second': 'g', 'third': 't'}\n",
      "{'first': 2, 'second': 3, 'third': 4}\n",
      "{'first': 'c', 'second': 'h', 'third': 'z'}\n",
      "{'first': 2, 'second': 3, 'third': 4}\n",
      "{'first': 'c', 'second': 'h', 'third': 'w'}\n",
      "{'first': 2, 'second': 3, 'third': 4}\n",
      "{'first': 'c', 'second': 'h', 'third': 'v'}\n",
      "{'first': 2, 'second': 3, 'third': 4}\n",
      "{'first': 'c', 'second': 'h', 'third': 'u'}\n",
      "{'first': 2, 'second': 3, 'third': 4}\n",
      "{'first': 'c', 'second': 'h', 'third': 't'}\n",
      "{'first': 2, 'second': 3, 'third': 4}\n",
      "{'first': 'c', 'second': 'i', 'third': 'z'}\n",
      "{'first': 2, 'second': 3, 'third': 4}\n",
      "{'first': 'c', 'second': 'i', 'third': 'w'}\n",
      "{'first': 2, 'second': 3, 'third': 4}\n",
      "{'first': 'c', 'second': 'i', 'third': 'v'}\n",
      "{'first': 2, 'second': 3, 'third': 4}\n",
      "{'first': 'c', 'second': 'i', 'third': 'u'}\n",
      "{'first': 2, 'second': 3, 'third': 4}\n",
      "{'first': 'c', 'second': 'i', 'third': 't'}\n",
      "{'first': 2, 'second': 3, 'third': 4}\n"
     ]
    }
   ],
   "source": [
    "from itertools import product\n",
    "first = [\"a\", \"b\", \"c\"]\n",
    "second = [\"f\", \"g\", \"h\", \"i\"]\n",
    "third = [\"z\", \"w\", \"v\", \"u\", \"t\"]\n",
    "# fourth = [\"l\", \"m\", \"n\", \"o\", \"p\", \"q\", \"r\"]\n",
    "pages = range(0, 1000, 100)\n",
    "\n",
    "arrays = [first, second, third]\n",
    "array_names = [\"first\", \"second\", \"third\"]\n",
    "\n",
    "ranges = [range(len(a)) for a in arrays]\n",
    "\n",
    "# for z in zip(array_names, arrays):\n",
    "#     print(z)\n",
    "\n",
    "\n",
    "# ranges = [range(len(first)), range(len(second)), range(len(third))]\n",
    "for tup in product(*ranges):\n",
    "    print(dict(zip(array_names, [arrays[idx][value] for (idx, value) in enumerate(tup)])))\n",
    "#     print(list(map(lambda tup: [arrays[idx][value] for (idx, value) in tup], enumerate(tup))))\n",
    "#     print()\n",
    "#     arg = {}\n",
    "#     for i in range(len(tup)):\n",
    "#         arg[array_names[i]]=arrays[i][tup[i]]\n",
    "\n",
    "#     args = dict(zip(array_names, tup))\n",
    "#     args = dict(zip(array_names, map(lambda tup: [arrays[idx][value] for (idx, value) in tup], enumerate(tup))))\n",
    "#     for i in range(len(tup)):\n",
    "#         arg[array_names[i]]=tup[i]\n",
    "#     fetch(**arg)\n",
    "    fetch(**args)\n",
    "    \n",
    "def fetch(**kwargs):\n",
    "    second(**kwargs)\n",
    "\n",
    "def second(**kwargs):\n",
    "    print(kwargs)"
   ]
  },
  {
   "cell_type": "code",
   "execution_count": 92,
   "id": "9edff7f1",
   "metadata": {},
   "outputs": [
    {
     "name": "stdout",
     "output_type": "stream",
     "text": [
      "a f z b g w c h v a f z b g w c h v a f z b g w c h v a f z b g w c h v a f z b g w c h v a f z b g w c h v a f z b g w c h v a f z b g w c h v a f z b g w c h v a f z b g w c h v a f z b g w c h v a f z b g w c h v a f z b g w c h v a f z b g w c h v a f z b g w c h v a f z b g w c h v a f z b g w c h v a f z b g w c h v a f z b g w c h v a f z b g w c h v \n",
      "a f z a f w a f v a f u a f t a g z a g w a g v a g u a g t a h z a h w a h v a h u a h t a i z a i w a i v a i u a i t b f z b f w b f v b f u b f t b g z b g w b g v b g u b g t b h z b h w b h v b h u b h t b i z b i w b i v b i u b i t c f z c f w c f v c f u c f t c g z c g w c g v c g u c g t c h z c h w c h v c h u c h t c i z c i w c i v c i u c i t "
     ]
    }
   ],
   "source": [
    "multiple(3, [first, second, third])\n",
    "print(\"\")\n",
    "hardcoded([first, second, third])"
   ]
  },
  {
   "cell_type": "code",
   "execution_count": 186,
   "id": "32703d57",
   "metadata": {},
   "outputs": [
    {
     "name": "stdout",
     "output_type": "stream",
     "text": [
      "6709\n"
     ]
    }
   ],
   "source": [
    "import json\n",
    "with open('Ceramic_Capacitors.json', 'r') as f:\n",
    "    data = json.load(f)\n",
    "    print(len(data['data']['search']['results']))"
   ]
  },
  {
   "cell_type": "code",
   "execution_count": null,
   "id": "ffa85530",
   "metadata": {},
   "outputs": [],
   "source": []
  }
 ],
 "metadata": {
  "kernelspec": {
   "display_name": "Python 3 (ipykernel)",
   "language": "python",
   "name": "python3"
  },
  "language_info": {
   "codemirror_mode": {
    "name": "ipython",
    "version": 3
   },
   "file_extension": ".py",
   "mimetype": "text/x-python",
   "name": "python",
   "nbconvert_exporter": "python",
   "pygments_lexer": "ipython3",
   "version": "3.8.9"
  }
 },
 "nbformat": 4,
 "nbformat_minor": 5
}
