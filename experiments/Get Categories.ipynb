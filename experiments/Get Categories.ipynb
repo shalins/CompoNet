{
 "cells": [
  {
   "cell_type": "code",
   "execution_count": 58,
   "id": "2897737c",
   "metadata": {},
   "outputs": [],
   "source": [
    "import requests\n",
    "\n",
    "cookies = {\n",
    "    '_px': '5WsiwtPoF4ghIW3k2Vr2vnSdeuJV7+RPtWe3oToxRXnYBMGOub295HyndgH+k0P1nLyVyaDjZtY7LJn4pQko+w==:1000:23APfkomiCl4tz1QlrbnKCuLYS3Mfd56tTjbKPwyiVxPAzUIpoZOAVblGLGl/C/oo+FA5QCErg39nhrmJsmJltFX0djN2voTv9txJjUqi0KWfwtqdX5oEnGYRIwfx2sws8o+RV8aacanCTI8olgIPOliM/KUGlIF9fHCphlQncxl3+sbsHTQT+sGhnyp9FHwVMcMJ2lhtM1PvPgV3Ptnc2ziwg4fFMzMTk/lGzybiAtM4uB2O6pAyYWgW6uI8kad1NJYqBLr70KXIIdU85Kxag==',\n",
    "}\n",
    "\n",
    "headers = {\n",
    "    'user-agent': 'Mozilla/5.0 (Macintosh; Intel Mac OS X 10_15_7) AppleWebKit/537.36 (KHTML, like Gecko) Chrome/103.0.0.0 Safari/537.36',\n",
    "}\n",
    "\n",
    "json_data = {\n",
    "    'operationName': 'FilterModalSearch',\n",
    "    'variables': {\n",
    "        'attribute_names': [\n",
    "            'capacitance',\n",
    "        ],\n",
    "        'sizes': 100,\n",
    "        'currency': 'USD',\n",
    "        'filters': {\n",
    "            'category_id': [\n",
    "                '6332',\n",
    "            ],\n",
    "        },\n",
    "        'in_stock_only': False,\n",
    "    },\n",
    "    'query': 'query FilterModalSearch($attribute_names: [String!]!, $sizes: Int!, $currency: String!, $filters: Map, $in_stock_only: Boolean, $q: String) {\\n  search(currency: $currency, filters: $filters, in_stock_only: $in_stock_only, q: $q) {\\n    hits\\n    spec_aggs(attribute_names: $attribute_names, size: $sizes) {\\n      attribute {\\n        name\\n        __typename\\n      }\\n      buckets {\\n        count\\n        display_value\\n        float_value\\n        __typename\\n      }\\n      display_max\\n      display_min\\n      max\\n      min\\n      __typename\\n    }\\n    __typename\\n  }\\n}\\n',\n",
    "}\n",
    "\n",
    "response = requests.post('https://octopart.com/api/v4/internal', cookies=cookies, headers=headers, json=json_data)"
   ]
  },
  {
   "cell_type": "code",
   "execution_count": 59,
   "id": "548381ab",
   "metadata": {},
   "outputs": [
    {
     "data": {
      "text/plain": [
       "{'errors': [{'message': 'elastic: Error 400 (Bad Request): [terms] failed to parse field [size] [type=parsing_exception]',\n",
       "   'path': ['search']}],\n",
       " 'data': None}"
      ]
     },
     "execution_count": 59,
     "metadata": {},
     "output_type": "execute_result"
    }
   ],
   "source": [
    "response.json()"
   ]
  },
  {
   "cell_type": "code",
   "execution_count": 42,
   "id": "8d8b1104",
   "metadata": {},
   "outputs": [
    {
     "name": "stdout",
     "output_type": "stream",
     "text": [
      "../scraper/data/__current_place.txt\n",
      "(31, 62)\n"
     ]
    }
   ],
   "source": [
    "import pickle\n",
    "current_place = (1, 2, 3, 4)\n",
    "directory = \"../scraper/data/\"\n",
    "def load_current_place(directory):\n",
    "    try:\n",
    "        print(f\"{directory}__current_place.txt\")\n",
    "        with open(f\"{directory}__current_place.txt\", \"rb\") as infile:\n",
    "            return pickle.load(infile)\n",
    "    except FileNotFoundError:\n",
    "        return None\n",
    "    \n",
    "def save_current_place(data):\n",
    "    os.makedirs(SAVE_DIR, exist_ok=True)\n",
    "    with open(f\"{SAVE_DIR}{CURRENT_PLACE_FILE}\", \"wb\") as outfile:\n",
    "        pickle.dump(data, outfile)\n",
    "        \n",
    "        \n",
    "# save_current_place((0, ))\n",
    "print(load_current_place(directory))"
   ]
  },
  {
   "cell_type": "code",
   "execution_count": 31,
   "id": "d287f28f",
   "metadata": {},
   "outputs": [
    {
     "name": "stdout",
     "output_type": "stream",
     "text": [
      "../scraper/data/__current_place.txt\n",
      "(0, 642)\n"
     ]
    }
   ],
   "source": [
    "print(load_current_place(directory))"
   ]
  },
  {
   "cell_type": "code",
   "execution_count": 46,
   "id": "9e1f12ea",
   "metadata": {},
   "outputs": [
    {
     "name": "stdout",
     "output_type": "stream",
     "text": [
      "61086\n"
     ]
    }
   ],
   "source": [
    "with open(f'{directory}Film Capacitors.json', 'r') as file:\n",
    "    data = json.load(file)\n",
    "    print(len(data[\"data\"][\"search\"][\"results\"]))\n",
    "#     print(len(data[\"data\"][\"search\"][\"results\"][-1]))"
   ]
  },
  {
   "cell_type": "code",
   "execution_count": 27,
   "id": "84109a3e",
   "metadata": {},
   "outputs": [
    {
     "name": "stdout",
     "output_type": "stream",
     "text": [
      "39953\n"
     ]
    }
   ],
   "source": [
    "with open(f'{directory}Film Capacitors Intermediate.json', 'r+') as file:\n",
    "    # First we load existing data into a dict.\n",
    "    file_data = json.load(file)\n",
    "    results = file_data[\"data\"][\"search\"][\"results\"][:-1]\n",
    "    last = file_data[\"data\"][\"search\"][\"results\"][-1]\n",
    "    results.extend(last)\n",
    "    file_data[\"data\"][\"search\"][\"results\"] = results\n",
    "    print(len(file_data[\"data\"][\"search\"][\"results\"]))\n",
    "#     print(len(data[\"data\"][\"search\"][\"results\"][-1]))\n",
    "    # Join new_data with file_data inside emp_details\n",
    "#     file_data[\"data\"][\"search\"][\"results\"].extend(new_data)\n",
    "#     file.seek(0)\n",
    "#     json.dump(file_data, file)"
   ]
  },
  {
   "cell_type": "code",
   "execution_count": null,
   "id": "b8f965eb",
   "metadata": {},
   "outputs": [],
   "source": [
    "# 11513"
   ]
  }
 ],
 "metadata": {
  "kernelspec": {
   "display_name": "Python 3 (ipykernel)",
   "language": "python",
   "name": "python3"
  },
  "language_info": {
   "codemirror_mode": {
    "name": "ipython",
    "version": 3
   },
   "file_extension": ".py",
   "mimetype": "text/x-python",
   "name": "python",
   "nbconvert_exporter": "python",
   "pygments_lexer": "ipython3",
   "version": "3.8.9"
  }
 },
 "nbformat": 4,
 "nbformat_minor": 5
}
